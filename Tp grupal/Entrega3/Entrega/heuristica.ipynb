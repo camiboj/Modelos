{
 "cells": [
  {
   "cell_type": "code",
   "execution_count": 44,
   "metadata": {},
   "outputs": [],
   "source": [
    "import csv\n",
    "capacidad_x_centro_ruta = 'capacidades_reducido.csv'\n",
    "distancia_vot_centro_ruta = 'constantes_reducido.csv'\n",
    "CAP_MIN = 30"
   ]
  },
  {
   "cell_type": "code",
   "execution_count": 45,
   "metadata": {},
   "outputs": [],
   "source": [
    "#Creacion del diccionario capacidad_x_centro = {id_centro: capacidad}\n",
    "\n",
    "capacidad_x_centro = {}\n",
    "with open(capacidad_x_centro_ruta, \"r\") as f:\n",
    "    capacidad_x_centro_csv = csv.reader(f)\n",
    "    principio = True\n",
    "    for id_centro, capacidad in capacidad_x_centro_csv:\n",
    "        if principio:\n",
    "            principio = False\n",
    "            continue\n",
    "        capacidad_x_centro[int(id_centro)] = int(capacidad)\n",
    "\n",
    "cant_centros = len(capacidad_x_centro)"
   ]
  },
  {
   "cell_type": "code",
   "execution_count": 46,
   "metadata": {},
   "outputs": [],
   "source": [
    "#Creacion del diccionario distancia_vot_centro = {(id_votante, id_centro): distancia}\n",
    "\n",
    "distancia_vot_centro = {}\n",
    "\n",
    "with open(distancia_vot_centro_ruta, \"r\") as f:\n",
    "    distancia_vot_centro_csv = csv.reader(f)\n",
    "    principio = True\n",
    "    for id_votante, id_centro, distancia in distancia_vot_centro_csv:\n",
    "        if principio:\n",
    "            principio = False\n",
    "            continue\n",
    "        distancia_vot_centro[(int(id_votante), int(id_centro))] = float(distancia)"
   ]
  },
  {
   "cell_type": "code",
   "execution_count": 47,
   "metadata": {},
   "outputs": [],
   "source": [
    "def fairness(distancia):\n",
    "    return distancia**2"
   ]
  },
  {
   "cell_type": "code",
   "execution_count": 48,
   "metadata": {},
   "outputs": [],
   "source": [
    "#Creacion del diccionario distancia_a_centros = {id_votante: {id_centro: distancia}}\n",
    "\n",
    "cant_votantes = int(len(distancia_vot_centro.keys())/len(capacidad_x_centro.keys()))\n",
    "\n",
    "distancia_a_centros = {}\n",
    "\n",
    "for id_votante in range(1,cant_votantes+1):\n",
    "    distancia_por_centro = {}\n",
    "    for centro in capacidad_x_centro:\n",
    "        distancia_por_centro[centro] = distancia_vot_centro[(id_votante, centro)]\n",
    "    distancia_a_centros[id_votante] = distancia_por_centro"
   ]
  },
  {
   "cell_type": "code",
   "execution_count": 49,
   "metadata": {},
   "outputs": [],
   "source": [
    "#Creacion del diccionario fairness_a_centros = {id_votante: {id_centro: distancia_con_fairness}}\n",
    "\n",
    "fairness_a_centros = {}\n",
    "\n",
    "for id_votante in range(1,cant_votantes+1):\n",
    "    fairness_por_centro = {}\n",
    "    for centro in capacidad_x_centro:\n",
    "        fairness_por_centro[centro] = fairness(distancia_vot_centro[(id_votante, centro)])\n",
    "    fairness_a_centros[id_votante] = fairness_por_centro"
   ]
  },
  {
   "cell_type": "code",
   "execution_count": 50,
   "metadata": {},
   "outputs": [],
   "source": [
    "def regla(distancia, fairness):\n",
    "    return distancia + fairness"
   ]
  },
  {
   "cell_type": "code",
   "execution_count": 51,
   "metadata": {},
   "outputs": [],
   "source": [
    "#Creacion del diccionario reglas = {id_votante: {id_centro: distancia_con_fairness + distancia}}\n",
    "\n",
    "reglas = {}\n",
    "\n",
    "for id_votante in range(1, cant_votantes+1):\n",
    "    reglas_para_votante = {}\n",
    "    for id_centro in range(1, cant_centros+1):\n",
    "        reglas_para_votante[id_centro] = regla(distancia_a_centros[id_votante][id_centro], fairness_a_centros[id_votante][id_centro])\n",
    "    reglas[id_votante] = reglas_para_votante"
   ]
  },
  {
   "cell_type": "code",
   "execution_count": 52,
   "metadata": {},
   "outputs": [],
   "source": [
    "#Primera corrida -> asignacion de todos los votantes al centro mas cercano\n",
    "\n",
    "asignados = {}\n",
    "\n",
    "for id_votante in range(1, cant_votantes+1):\n",
    "        centros_ordenados = sorted(reglas[id_votante].items(), key=lambda kv: kv[1])\n",
    "        for id_centro, distancia in centros_ordenados:\n",
    "            cap_max = capacidad_x_centro[id_centro]\n",
    "            asignacion = asignados.get(id_centro, [])\n",
    "            if len(asignacion) < cap_max:\n",
    "                asignacion.append(id_votante)\n",
    "                asignados[id_centro] = asignacion\n",
    "                break"
   ]
  },
  {
   "cell_type": "code",
   "execution_count": 53,
   "metadata": {},
   "outputs": [
    {
     "name": "stdout",
     "output_type": "stream",
     "text": [
      "Estan todos los votantes asignados\n"
     ]
    }
   ],
   "source": [
    "#Verificacion de que esten todos los votantes asignados\n",
    "\n",
    "cant_votantes_asignados = 0 \n",
    "for asignacion in asignados:\n",
    "    cant_votantes_asignados += len(asignados[asignacion])\n",
    "\n",
    "if cant_votantes_asignados == cant_votantes:\n",
    "    print(\"Estan todos los votantes asignados\")\n",
    "else:\n",
    "    print(\"No estan todos los votantes asignados. Asignados: {} - cant_votantes: {}\".format(cant_votantes_asignados, cant_votantes))"
   ]
  },
  {
   "cell_type": "code",
   "execution_count": 54,
   "metadata": {},
   "outputs": [],
   "source": [
    "#Chequeo que no haya centros con mas de su capacidad maxima\n",
    "\n",
    "for id_centro in asignados:\n",
    "    cap_max = capacidad_x_centro[id_centro]\n",
    "    if len(asignados[id_centro]) > cap_max:\n",
    "        print(\"Error en centro {} - cantidad {} - cap_max {}\".format(id_centro, len(asignados[id_centro]), cap_max))"
   ]
  },
  {
   "cell_type": "code",
   "execution_count": 55,
   "metadata": {},
   "outputs": [
    {
     "name": "stdout",
     "output_type": "stream",
     "text": [
      "Centro inhabilitado 18 - cantidad 20\n",
      "Centro inhabilitado 25 - cantidad 22\n",
      "Centro inhabilitado 27 - cantidad 23\n",
      "Centro inhabilitado 2 - cantidad 17\n",
      "Centro inhabilitado 12 - cantidad 18\n",
      "Centro inhabilitado 22 - cantidad 28\n",
      "Centro inhabilitado 19 - cantidad 15\n",
      "Centro inhabilitado 11 - cantidad 15\n",
      "Centro inhabilitado 13 - cantidad 4\n",
      "Centro inhabilitado 10 - cantidad 17\n",
      "Centro inhabilitado 29 - cantidad 13\n",
      "Centro inhabilitado 17 - cantidad 11\n",
      "Centro inhabilitado 21 - cantidad 9\n",
      "Centro inhabilitado 30 - cantidad 12\n",
      "Centro inhabilitado 5 - cantidad 5\n",
      "Centro inhabilitado 26 - cantidad 5\n",
      "Centro inhabilitado 23 - cantidad 2\n",
      "Centro inhabilitado 24 - cantidad 13\n",
      "Centro inhabilitado 6 - cantidad 12\n"
     ]
    }
   ],
   "source": [
    "#Chequeo si hay centros con menos de la capacidad minima\n",
    "\n",
    "for id_centro in asignados:\n",
    "    if len(asignados[id_centro]) < CAP_MIN:\n",
    "        print(\"Centro inhabilitado {} - cantidad {}\".format(id_centro, len(asignados[id_centro])))"
   ]
  },
  {
   "cell_type": "code",
   "execution_count": 56,
   "metadata": {
    "scrolled": false
   },
   "outputs": [],
   "source": [
    "#Redistribucion del minimo \n",
    "\n",
    "for id_centro_a_reasignar in asignados:\n",
    "    if len(asignados[id_centro_a_reasignar]) < CAP_MIN:\n",
    "        for id_votante in asignados[id_centro_a_reasignar]:\n",
    "            centros_ordenados = sorted(reglas[id_votante].items(), key=lambda kv: kv[1])\n",
    "            for id_centro_posible, distancia in centros_ordenados:\n",
    "                cap_max = capacidad_x_centro[id_centro_posible]\n",
    "                if id_centro_posible in asignados and len(asignados[id_centro_posible]) > CAP_MIN and len(asignados[id_centro_posible]) < cap_max:\n",
    "                    asignados[id_centro_posible].append(id_votante)\n",
    "                    break\n",
    "        asignados[id_centro_a_reasignar] = []\n",
    "\n",
    "# Asignacion de los votantes al centro mas cercano, si no entra, al que sigue\n",
    "# Algunos centros quedan con capacidad menor a la minima, pero nunca mayor a la maxima por la condicion anterior\n",
    "# Redistribucion de los que tienen capacidad menor a la minima a los mas cercanos que no esten llenos y tengan capacidad mayor a la minima"
   ]
  },
  {
   "cell_type": "code",
   "execution_count": 57,
   "metadata": {},
   "outputs": [],
   "source": [
    "#Chequeo que no haya centros con menos de su capacidad minima\n",
    "\n",
    "for id_centro in asignados:\n",
    "    if len(asignados[id_centro]) < CAP_MIN and len(asignados[id_centro]) > 0:\n",
    "        print(\"Se asigno mal el centro {} con la cantidad {}\".format(id_centro, len(asignados[id_centro])))\n",
    "        \n",
    "#Chequeo que no haya centros con mas de su capacidad maxima\n",
    "\n",
    "for id_centro in asignados:\n",
    "    cap_max = capacidad_x_centro[id_centro]\n",
    "    if len(asignados[id_centro]) > cap_max:\n",
    "        print(\"Error en centro {} - cantidad {} - cap_max {}\".format(id_centro, len(asignados[id_centro]), cap_max))"
   ]
  },
  {
   "cell_type": "code",
   "execution_count": 58,
   "metadata": {},
   "outputs": [
    {
     "name": "stdout",
     "output_type": "stream",
     "text": [
      "Estan todos los votantes asignados\n"
     ]
    }
   ],
   "source": [
    "#Verificacion de que esten todos los votantes asignados\n",
    "\n",
    "cant_votantes_asignados = 0 \n",
    "for asignacion in asignados:\n",
    "    cant_votantes_asignados += len(asignados[asignacion])\n",
    "\n",
    "if cant_votantes_asignados == cant_votantes:\n",
    "    print(\"Estan todos los votantes asignados\")\n",
    "else:\n",
    "    print(\"No estan todos los votantes asignados. Asignados: {} - cant_votantes: {}\".format(cant_votantes_asignados, cant_votantes))"
   ]
  },
  {
   "cell_type": "code",
   "execution_count": 59,
   "metadata": {},
   "outputs": [],
   "source": [
    "resultado_ruta = \"bivalente_encendidas_reducido_heuristica.csv\"\n",
    "\n",
    "with open(resultado_ruta, 'w', newline='') as csvfile:\n",
    "    fieldnames = ['id_votante', 'id_centro']\n",
    "    writer = csv.DictWriter(csvfile, fieldnames=fieldnames)\n",
    "\n",
    "    writer.writeheader()\n",
    "    for id_centro in asignados:\n",
    "        for id_votante in asignados[id_centro]:\n",
    "            writer.writerow({'id_votante': id_votante, 'id_centro': id_centro})"
   ]
  }
 ],
 "metadata": {
  "kernelspec": {
   "display_name": "Python 3",
   "language": "python",
   "name": "python3"
  },
  "language_info": {
   "codemirror_mode": {
    "name": "ipython",
    "version": 3
   },
   "file_extension": ".py",
   "mimetype": "text/x-python",
   "name": "python",
   "nbconvert_exporter": "python",
   "pygments_lexer": "ipython3",
   "version": "3.7.5"
  }
 },
 "nbformat": 4,
 "nbformat_minor": 2
}
